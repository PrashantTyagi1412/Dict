{
 "cells": [
  {
   "cell_type": "code",
   "execution_count": 15,
   "id": "209cf861-1811-4eeb-9c9c-db8800da605e",
   "metadata": {},
   "outputs": [
    {
     "ename": "AttributeError",
     "evalue": "'list' object has no attribute 'split'",
     "output_type": "error",
     "traceback": [
      "\u001b[1;31m---------------------------------------------------------------------------\u001b[0m",
      "\u001b[1;31mAttributeError\u001b[0m                            Traceback (most recent call last)",
      "Cell \u001b[1;32mIn[15], line 7\u001b[0m\n\u001b[0;32m      5\u001b[0m cname\u001b[38;5;241m=\u001b[39m[]\n\u001b[0;32m      6\u001b[0m \u001b[38;5;28;01mfor\u001b[39;00m i \u001b[38;5;129;01min\u001b[39;00m l:\n\u001b[1;32m----> 7\u001b[0m     fname\u001b[38;5;241m=\u001b[39ml\u001b[38;5;241m.\u001b[39msplit(\u001b[38;5;124m'\u001b[39m\u001b[38;5;124m.\u001b[39m\u001b[38;5;124m'\u001b[39m)\n\u001b[0;32m      8\u001b[0m     fname\u001b[38;5;241m.\u001b[39mappend(l)\n\u001b[0;32m      9\u001b[0m \u001b[38;5;28mprint\u001b[39m(fname)\n",
      "\u001b[1;31mAttributeError\u001b[0m: 'list' object has no attribute 'split'"
     ]
    }
   ],
   "source": [
    "input='Virat.kohli@rcb.com;rohit.sharma@mi.com;ms.dhoni@csk.com'\n",
    "l=input.split(';')\n",
    "fname=[]\n",
    "lstname=[]\n",
    "cname=[]\n",
    "for i in l:\n",
    "    fname=l.split('.')\n",
    "    fname.append(l)\n",
    "print(fname)\n",
    "\n"
   ]
  },
  {
   "cell_type": "code",
   "execution_count": 16,
   "id": "4d927d0d-b635-4bde-a57a-453b749671fa",
   "metadata": {},
   "outputs": [
    {
     "name": "stdout",
     "output_type": "stream",
     "text": [
      "['can', 'canner', 'can', 'can', 'canner', 'ou', 'ypu', 'can', 'canner']\n"
     ]
    }
   ],
   "source": [
    "input=\" can canner can you can not canner with ou but ypu can the canner \"\n",
    "l=input.split()\n",
    "l1=[]\n",
    "output=[]\n",
    "stopwords=['not','you','but','with','the']\n",
    "for i in l:\n",
    "    if i not in stopwords:\n",
    "        output.append(i)\n",
    "''.join(output) \n",
    "print(output)\n"
   ]
  },
  {
   "cell_type": "code",
   "execution_count": 7,
   "id": "42595ac9-a65d-4869-bd8c-46319adb3b4c",
   "metadata": {},
   "outputs": [
    {
     "name": "stdout",
     "output_type": "stream",
     "text": [
      "['can', 'canner', 'you', 'not', 'with', 'but', 'the']\n",
      "['4', '3', '3', '1', '1', '1', '1']\n"
     ]
    }
   ],
   "source": [
    "input=\" can canner can you can not canner with you but you can the canner \"\n",
    "l=input.split()\n",
    "l1=[]\n",
    "counter=[]\n",
    "for i in l:\n",
    "    if i not in l1:\n",
    "        l1.append(i)\n",
    "        counter.append(f'{l.count(i)}')\n",
    "print(l1)\n",
    "print(counter)\n",
    "        "
   ]
  },
  {
   "cell_type": "code",
   "execution_count": 11,
   "id": "86069f73-27c7-4ab8-bb44-acec02f7b60c",
   "metadata": {},
   "outputs": [
    {
     "name": "stdout",
     "output_type": "stream",
     "text": [
      "['apple', 'fruit', 'banana', 12, 67, 89]\n"
     ]
    }
   ],
   "source": [
    "l1=[12,67,89]\n",
    "l2=['apple','fruit','banana']\n",
    "l2.extend(l1)\n",
    "print(l2)\n"
   ]
  },
  {
   "cell_type": "code",
   "execution_count": 15,
   "id": "863112a9-76d6-483c-ab1f-9666be8f28eb",
   "metadata": {},
   "outputs": [
    {
     "name": "stdout",
     "output_type": "stream",
     "text": [
      "[12, 67]\n"
     ]
    }
   ],
   "source": [
    "l1=[12,67,89]\n",
    "del l1[2]\n",
    "print (l1)"
   ]
  },
  {
   "cell_type": "code",
   "execution_count": 16,
   "id": "baeafa57-944e-4056-9be5-d47470f639b4",
   "metadata": {},
   "outputs": [
    {
     "data": {
      "text/plain": [
       "[89, 67, 12]"
      ]
     },
     "execution_count": 16,
     "metadata": {},
     "output_type": "execute_result"
    }
   ],
   "source": [
    "l1=[12,67,89]\n",
    "l1.reverse()\n",
    "l1"
   ]
  },
  {
   "cell_type": "code",
   "execution_count": null,
   "id": "2f360de3-68f9-44e1-b503-3b8c090b23f9",
   "metadata": {},
   "outputs": [],
   "source": [
    "l1=[12,67,89]"
   ]
  }
 ],
 "metadata": {
  "kernelspec": {
   "display_name": "Python 3 (ipykernel)",
   "language": "python",
   "name": "python3"
  },
  "language_info": {
   "codemirror_mode": {
    "name": "ipython",
    "version": 3
   },
   "file_extension": ".py",
   "mimetype": "text/x-python",
   "name": "python",
   "nbconvert_exporter": "python",
   "pygments_lexer": "ipython3",
   "version": "3.12.7"
  }
 },
 "nbformat": 4,
 "nbformat_minor": 5
}
