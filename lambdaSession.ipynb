{
 "cells": [
  {
   "cell_type": "code",
   "execution_count": 4,
   "id": "b09c79a2-d303-4dc3-a70b-f506c518f6b1",
   "metadata": {},
   "outputs": [
    {
     "name": "stdout",
     "output_type": "stream",
     "text": [
      "64\n"
     ]
    }
   ],
   "source": [
    "def mul(a):\n",
    "    return(a*a)\n",
    "\n",
    "ans=mul(8)\n",
    "print(ans)\n"
   ]
  },
  {
   "cell_type": "code",
   "execution_count": 6,
   "id": "6329a290-6a1e-45cc-b5eb-771836c9a4f7",
   "metadata": {},
   "outputs": [
    {
     "name": "stdout",
     "output_type": "stream",
     "text": [
      "64\n"
     ]
    }
   ],
   "source": [
    "mul=lambda a: a*a\n",
    "\n",
    "ans=mul(8)\n",
    "print(ans)"
   ]
  },
  {
   "cell_type": "code",
   "execution_count": 7,
   "id": "112445fb-b848-4b1a-8f42-33d14ea4d5f5",
   "metadata": {},
   "outputs": [
    {
     "data": {
      "text/plain": [
       "8000"
      ]
     },
     "execution_count": 7,
     "metadata": {},
     "output_type": "execute_result"
    }
   ],
   "source": [
    "cube=lambda a:a*a*a\n",
    "cube(20)"
   ]
  },
  {
   "cell_type": "code",
   "execution_count": 9,
   "id": "daf97100-23ce-42c9-8f7b-3dfecb01c955",
   "metadata": {},
   "outputs": [
    {
     "data": {
      "text/plain": [
       "30"
      ]
     },
     "execution_count": 9,
     "metadata": {},
     "output_type": "execute_result"
    }
   ],
   "source": [
    "adddition=lambda a,b:a+b\n",
    "adddition(10,20)"
   ]
  },
  {
   "cell_type": "code",
   "execution_count": 14,
   "id": "2465b73c-2721-49ff-b3cd-08b1c66d782e",
   "metadata": {},
   "outputs": [
    {
     "data": {
      "text/plain": [
       "40"
      ]
     },
     "execution_count": 14,
     "metadata": {},
     "output_type": "execute_result"
    }
   ],
   "source": [
    "avg=lambda a,b,c:round (a+b+c/3)\n",
    "avg(10,20,30)"
   ]
  },
  {
   "cell_type": "code",
   "execution_count": null,
   "id": "d41cb39a-9491-4754-9662-e6114073ab7b",
   "metadata": {},
   "outputs": [],
   "source": [
    "avg= lambda a,b,c : round((a+b+c)/3)\n",
    "avg(20,30,90)"
   ]
  },
  {
   "cell_type": "code",
   "execution_count": 15,
   "id": "a70a16b1-fa1c-4335-8c43-6bf326dce52d",
   "metadata": {},
   "outputs": [
    {
     "data": {
      "text/plain": [
       "183.33"
      ]
     },
     "execution_count": 15,
     "metadata": {},
     "output_type": "execute_result"
    }
   ],
   "source": [
    "avg= lambda a,b,c=500 : round(((a+b+c)/3),2)\n",
    "avg(20,30)"
   ]
  },
  {
   "cell_type": "code",
   "execution_count": 19,
   "id": "821c88fe-bd0a-4be2-8da4-98c7e36bacd4",
   "metadata": {},
   "outputs": [
    {
     "name": "stdout",
     "output_type": "stream",
     "text": [
      "Hyd Bangl Pune Chennai "
     ]
    }
   ],
   "source": [
    "input=['hyd','bangl','pune','chennai']\n",
    "for i in input:\n",
    "    print(i.capitalize(),end=\" \")"
   ]
  },
  {
   "cell_type": "code",
   "execution_count": 22,
   "id": "3b2d82ca-37fa-4786-a0da-34b8a4b58e21",
   "metadata": {},
   "outputs": [
    {
     "data": {
      "text/plain": [
       "['Hyd', 'Bangl', 'Pune', 'Chennai']"
      ]
     },
     "execution_count": 22,
     "metadata": {},
     "output_type": "execute_result"
    }
   ],
   "source": [
    "\n",
    "input=['hyd','bangl','pune','chennai']\n",
    "list(map(lambda i:i.capitalize(),input))"
   ]
  },
  {
   "cell_type": "code",
   "execution_count": 24,
   "id": "216b9f98-2f4a-498f-9a45-ea6042583073",
   "metadata": {},
   "outputs": [
    {
     "data": {
      "text/plain": [
       "['HYD', 'BANGL', 'PUNE', 'CHENNAI']"
      ]
     },
     "execution_count": 24,
     "metadata": {},
     "output_type": "execute_result"
    }
   ],
   "source": [
    "input=['hyd','bangl','pune','chennai']\n",
    "\n",
    "list(map(lambda i:i.upper(),input))"
   ]
  },
  {
   "cell_type": "code",
   "execution_count": 28,
   "id": "a57fce62-404e-467d-82c3-32797deb53f2",
   "metadata": {},
   "outputs": [
    {
     "data": {
      "text/plain": [
       "[0, 1, 2, 3]"
      ]
     },
     "execution_count": 28,
     "metadata": {},
     "output_type": "execute_result"
    }
   ],
   "source": [
    "input=['hyd','bangl','pune','chennai']\n",
    "list(map(lambda i: input.index(i),input))"
   ]
  },
  {
   "cell_type": "code",
   "execution_count": 35,
   "id": "bf2deb75-5d1d-4f06-a025-5fa0033557ae",
   "metadata": {},
   "outputs": [
    {
     "name": "stdout",
     "output_type": "stream",
     "text": [
      "['Hello', 'How', 'Are', 'You']\n"
     ]
    }
   ],
   "source": [
    "input=\"Hello how are you\"\n",
    "out=list(map(lambda i:i.capitalize(),input.split()))\n",
    "print(out)"
   ]
  },
  {
   "cell_type": "code",
   "execution_count": 38,
   "id": "02fb7142-3c4f-4023-be40-568f23166405",
   "metadata": {},
   "outputs": [
    {
     "data": {
      "text/plain": [
       "['bang#l', 'chenn#i']"
      ]
     },
     "execution_count": 38,
     "metadata": {},
     "output_type": "execute_result"
    }
   ],
   "source": [
    "#filter function Here using \n",
    "\n",
    "input=['hyd','bang#l','pune','chenn#i']\n",
    "list(filter(lambda i:'#' in i,input))\n"
   ]
  },
  {
   "cell_type": "code",
   "execution_count": 41,
   "id": "b0952efb-2964-44a2-9e35-bba5d92c6484",
   "metadata": {},
   "outputs": [
    {
     "data": {
      "text/plain": [
       "['__add__',\n",
       " '__class__',\n",
       " '__contains__',\n",
       " '__delattr__',\n",
       " '__dir__',\n",
       " '__doc__',\n",
       " '__eq__',\n",
       " '__format__',\n",
       " '__ge__',\n",
       " '__getattribute__',\n",
       " '__getitem__',\n",
       " '__getnewargs__',\n",
       " '__getstate__',\n",
       " '__gt__',\n",
       " '__hash__',\n",
       " '__init__',\n",
       " '__init_subclass__',\n",
       " '__iter__',\n",
       " '__le__',\n",
       " '__len__',\n",
       " '__lt__',\n",
       " '__mod__',\n",
       " '__mul__',\n",
       " '__ne__',\n",
       " '__new__',\n",
       " '__reduce__',\n",
       " '__reduce_ex__',\n",
       " '__repr__',\n",
       " '__rmod__',\n",
       " '__rmul__',\n",
       " '__setattr__',\n",
       " '__sizeof__',\n",
       " '__str__',\n",
       " '__subclasshook__',\n",
       " 'capitalize',\n",
       " 'casefold',\n",
       " 'center',\n",
       " 'count',\n",
       " 'encode',\n",
       " 'endswith',\n",
       " 'expandtabs',\n",
       " 'find',\n",
       " 'format',\n",
       " 'format_map',\n",
       " 'index',\n",
       " 'isalnum',\n",
       " 'isalpha',\n",
       " 'isascii',\n",
       " 'isdecimal',\n",
       " 'isdigit',\n",
       " 'isidentifier',\n",
       " 'islower',\n",
       " 'isnumeric',\n",
       " 'isprintable',\n",
       " 'isspace',\n",
       " 'istitle',\n",
       " 'isupper',\n",
       " 'join',\n",
       " 'ljust',\n",
       " 'lower',\n",
       " 'lstrip',\n",
       " 'maketrans',\n",
       " 'partition',\n",
       " 'removeprefix',\n",
       " 'removesuffix',\n",
       " 'replace',\n",
       " 'rfind',\n",
       " 'rindex',\n",
       " 'rjust',\n",
       " 'rpartition',\n",
       " 'rsplit',\n",
       " 'rstrip',\n",
       " 'split',\n",
       " 'splitlines',\n",
       " 'startswith',\n",
       " 'strip',\n",
       " 'swapcase',\n",
       " 'title',\n",
       " 'translate',\n",
       " 'upper',\n",
       " 'zfill']"
      ]
     },
     "execution_count": 41,
     "metadata": {},
     "output_type": "execute_result"
    }
   ],
   "source": [
    "import functools\n",
    "dir('functools')"
   ]
  },
  {
   "cell_type": "code",
   "execution_count": 42,
   "id": "f29e8e50-a3c2-444e-878c-d52e0419fb5e",
   "metadata": {},
   "outputs": [
    {
     "data": {
      "text/plain": [
       "15"
      ]
     },
     "execution_count": 42,
     "metadata": {},
     "output_type": "execute_result"
    }
   ],
   "source": [
    "from functools import reduce\n",
    "list1=[1,2,3,4,5]\n",
    "reduce(lambda summ,i:summ+i,list1)"
   ]
  },
  {
   "cell_type": "code",
   "execution_count": 43,
   "id": "7d809014-36e5-42b7-a506-258c85e48d39",
   "metadata": {},
   "outputs": [
    {
     "data": {
      "text/plain": [
       "215"
      ]
     },
     "execution_count": 43,
     "metadata": {},
     "output_type": "execute_result"
    }
   ],
   "source": [
    "from functools import reduce\n",
    "list1=[1,2,3,4,5]\n",
    "reduce(lambda summ,i:summ+i,list1,200)\n"
   ]
  },
  {
   "cell_type": "code",
   "execution_count": 45,
   "id": "1b3b288c-00c4-4f4f-b8f9-215721184fa2",
   "metadata": {},
   "outputs": [
    {
     "data": {
      "text/plain": [
       "478"
      ]
     },
     "execution_count": 45,
     "metadata": {},
     "output_type": "execute_result"
    }
   ],
   "source": [
    "from functools import reduce\n",
    "list1=[12,67,99,100]\n",
    "reduce(lambda summ,i:summ+i,list1)"
   ]
  },
  {
   "cell_type": "code",
   "execution_count": 46,
   "id": "926b13c5-cf1b-4a54-9a9a-a84957cc0db8",
   "metadata": {},
   "outputs": [
    {
     "data": {
      "text/plain": [
       "478"
      ]
     },
     "execution_count": 46,
     "metadata": {},
     "output_type": "execute_result"
    }
   ],
   "source": [
    "from functools import reduce\n",
    "list1=[12,67,99,100]\n",
    "reduce(lambda summ,i:summ+i,list1,200)"
   ]
  },
  {
   "cell_type": "code",
   "execution_count": 47,
   "id": "2b23e1f6-59af-4fb8-b42d-e778d3d081ea",
   "metadata": {},
   "outputs": [
    {
     "name": "stdout",
     "output_type": "stream",
     "text": [
      "[13, 24, 36, 53, 59]\n"
     ]
    }
   ],
   "source": [
    "list1=[1,2,3,4,5]\n",
    "list2=[12,22,33,49,54]\n",
    "list3=list(map(lambda k,v:k+v,list1,list2))\n",
    "print(list3)"
   ]
  },
  {
   "cell_type": "code",
   "execution_count": 48,
   "id": "bff3e377-1b76-40e2-9946-7b99af49f2b1",
   "metadata": {},
   "outputs": [
    {
     "data": {
      "text/plain": [
       "[12, 44, 99, 196, 270]"
      ]
     },
     "execution_count": 48,
     "metadata": {},
     "output_type": "execute_result"
    }
   ],
   "source": [
    "list1=[1,2,3,4,5]\n",
    "list2=[12,22,33,49,54]\n",
    "list(map(lambda k,v:k*v,list1,list2))"
   ]
  },
  {
   "cell_type": "code",
   "execution_count": 53,
   "id": "7bf12e7d-600c-4d77-b2b0-a9e415cb3936",
   "metadata": {},
   "outputs": [
    {
     "data": {
      "text/plain": [
       "['HYD', 'BANGL', 'PUNE', 'CHENNAI']"
      ]
     },
     "execution_count": 53,
     "metadata": {},
     "output_type": "execute_result"
    }
   ],
   "source": [
    "input=['hyd','bangl','pune','chennai']\n",
    "list(map(lambda i:i.upper(),input))\n"
   ]
  },
  {
   "cell_type": "code",
   "execution_count": 55,
   "id": "d04dbc79-6239-4321-9c32-f21b5934e225",
   "metadata": {},
   "outputs": [
    {
     "data": {
      "text/plain": [
       "['Hyd', 'Bangl', 'Pune', 'Chennai']"
      ]
     },
     "execution_count": 55,
     "metadata": {},
     "output_type": "execute_result"
    }
   ],
   "source": [
    "input=['hyd','bangl','pune','chennai']\n",
    "list(map(lambda i:i.capitalize(),input))"
   ]
  },
  {
   "cell_type": "code",
   "execution_count": 57,
   "id": "25b0cdae-d3dc-4258-bf48-c374ff9985fd",
   "metadata": {},
   "outputs": [
    {
     "data": {
      "text/plain": [
       "[0, 1, 2, 3]"
      ]
     },
     "execution_count": 57,
     "metadata": {},
     "output_type": "execute_result"
    }
   ],
   "source": [
    "input=['hyd','bangl','pune','chennai']\n",
    "list(map(lambda i:input.index(i),input))"
   ]
  },
  {
   "cell_type": "code",
   "execution_count": null,
   "id": "bf9ec7c1-1ad9-4c51-acba-1b7fa9fe2ade",
   "metadata": {},
   "outputs": [],
   "source": []
  }
 ],
 "metadata": {
  "kernelspec": {
   "display_name": "Python 3 (ipykernel)",
   "language": "python",
   "name": "python3"
  },
  "language_info": {
   "codemirror_mode": {
    "name": "ipython",
    "version": 3
   },
   "file_extension": ".py",
   "mimetype": "text/x-python",
   "name": "python",
   "nbconvert_exporter": "python",
   "pygments_lexer": "ipython3",
   "version": "3.12.7"
  }
 },
 "nbformat": 4,
 "nbformat_minor": 5
}
