{
 "cells": [
  {
   "cell_type": "code",
   "execution_count": 6,
   "id": "a6149678-7613-43b8-adf3-2e2449bd65f6",
   "metadata": {},
   "outputs": [
    {
     "name": "stdout",
     "output_type": "stream",
     "text": [
      "1 *7=7\n",
      "2 *7=14\n",
      "3 *7=21\n",
      "4 *7=28\n",
      "5 *7=35\n",
      "6 *7=42\n",
      "7 *7=49\n",
      "8 *7=56\n",
      "9 *7=63\n",
      "10 *7=70\n"
     ]
    }
   ],
   "source": [
    "def multiplt(a):\n",
    "    for i in range (1,11):\n",
    "        i*7\n",
    "        print(f'{i} *7={i*7}')\n",
    "multiplt(7) "
   ]
  },
  {
   "cell_type": "code",
   "execution_count": 16,
   "id": "e2fb8eeb-14e6-4362-8940-670bd0a7ad60",
   "metadata": {},
   "outputs": [
    {
     "name": "stdout",
     "output_type": "stream",
     "text": [
      "55\n"
     ]
    }
   ],
   "source": [
    "sum=0\n",
    "for i in range (1,10):\n",
    "    sum+=i\n",
    "print(sum)\n",
    "    \n"
   ]
  },
  {
   "cell_type": "code",
   "execution_count": null,
   "id": "e8b49182-8468-4262-981b-bca52afd8fea",
   "metadata": {},
   "outputs": [],
   "source": [
    "num=eval(input(\"Enter the table number::\"))\n",
    "for i in range(1,num,1):\n",
    "    if num%i==0:\n",
    "        print(f\"{num}/{i} true\")\n",
    "    else:\n",
    "        print(f\"{num}/{i} false\")"
   ]
  },
  {
   "cell_type": "code",
   "execution_count": 18,
   "id": "48d41c36-5d8d-4587-b52e-1346d9ab12b7",
   "metadata": {},
   "outputs": [
    {
     "name": "stdin",
     "output_type": "stream",
     "text": [
      " 75\n"
     ]
    },
    {
     "name": "stdout",
     "output_type": "stream",
     "text": [
      "its a 75 deivision code \n",
      "Its not a 75 division code\n",
      "its a 75 deivision code \n",
      "Its not a 75 division code\n",
      "its a 75 deivision code \n",
      "Its not a 75 division code\n",
      "Its not a 75 division code\n",
      "Its not a 75 division code\n",
      "Its not a 75 division code\n",
      "Its not a 75 division code\n",
      "Its not a 75 division code\n",
      "Its not a 75 division code\n",
      "Its not a 75 division code\n",
      "Its not a 75 division code\n",
      "its a 75 deivision code \n",
      "Its not a 75 division code\n",
      "Its not a 75 division code\n",
      "Its not a 75 division code\n",
      "Its not a 75 division code\n",
      "Its not a 75 division code\n",
      "Its not a 75 division code\n",
      "Its not a 75 division code\n",
      "Its not a 75 division code\n",
      "Its not a 75 division code\n",
      "its a 75 deivision code \n",
      "Its not a 75 division code\n",
      "Its not a 75 division code\n",
      "Its not a 75 division code\n",
      "Its not a 75 division code\n",
      "Its not a 75 division code\n",
      "Its not a 75 division code\n",
      "Its not a 75 division code\n",
      "Its not a 75 division code\n",
      "Its not a 75 division code\n",
      "Its not a 75 division code\n",
      "Its not a 75 division code\n",
      "Its not a 75 division code\n",
      "Its not a 75 division code\n",
      "Its not a 75 division code\n",
      "Its not a 75 division code\n",
      "Its not a 75 division code\n",
      "Its not a 75 division code\n",
      "Its not a 75 division code\n",
      "Its not a 75 division code\n",
      "Its not a 75 division code\n",
      "Its not a 75 division code\n",
      "Its not a 75 division code\n",
      "Its not a 75 division code\n",
      "Its not a 75 division code\n",
      "Its not a 75 division code\n",
      "Its not a 75 division code\n",
      "Its not a 75 division code\n",
      "Its not a 75 division code\n",
      "Its not a 75 division code\n",
      "Its not a 75 division code\n",
      "Its not a 75 division code\n",
      "Its not a 75 division code\n",
      "Its not a 75 division code\n",
      "Its not a 75 division code\n",
      "Its not a 75 division code\n",
      "Its not a 75 division code\n",
      "Its not a 75 division code\n",
      "Its not a 75 division code\n",
      "Its not a 75 division code\n",
      "Its not a 75 division code\n",
      "Its not a 75 division code\n",
      "Its not a 75 division code\n",
      "Its not a 75 division code\n",
      "Its not a 75 division code\n",
      "Its not a 75 division code\n",
      "Its not a 75 division code\n",
      "Its not a 75 division code\n",
      "Its not a 75 division code\n",
      "Its not a 75 division code\n",
      "its a 75 deivision code \n",
      "124\n",
      "6\n"
     ]
    }
   ],
   "source": [
    "sum=0\n",
    "lst=[]\n",
    "n1=eval(input())\n",
    "for i in range (1,n1+1):\n",
    "    if(n1%i==0):\n",
    "        print(\"its a 75 deivision code \")\n",
    "        sum+=i\n",
    "        lst.append(i)\n",
    "    else:\n",
    "        print(\"Its not a 75 division code\")\n",
    "print(sum)\n",
    "print(len(lst))"
   ]
  },
  {
   "cell_type": "code",
   "execution_count": 22,
   "id": "592efb41-e2d7-4298-b45e-0c3eb5e6ae2f",
   "metadata": {},
   "outputs": [
    {
     "name": "stdin",
     "output_type": "stream",
     "text": [
      " 67\n",
      " 99\n",
      " 89\n",
      " 12\n",
      " 20\n"
     ]
    },
    {
     "name": "stdout",
     "output_type": "stream",
     "text": [
      "The count of even number is 2 and even number sum 32\n",
      "The count of odd number is 258 and odd number sum 0\n"
     ]
    }
   ],
   "source": [
    "even_count=0\n",
    "odd_count=0\n",
    "even_sum=0\n",
    "odd_sum=0\n",
    "for i in range(5):\n",
    "    \n",
    "   num=eval(input())\n",
    "   if(num%2==0):\n",
    "    even_sum+=num\n",
    "    even_count+=1\n",
    "   else:\n",
    "    odd_count+=num\n",
    "    odd_count+=1\n",
    "print(f'The count of even number is {even_count} and even number sum {even_sum}')\n",
    "print(f'The count of odd number is {odd_count} and odd number sum {odd_sum}')"
   ]
  },
  {
   "cell_type": "code",
   "execution_count": 24,
   "id": "0bca204d-049b-40a0-9e47-e762d4fee0b0",
   "metadata": {},
   "outputs": [
    {
     "name": "stdout",
     "output_type": "stream",
     "text": [
      "35 is odd\n",
      "21 is odd\n",
      "86 is even\n",
      "17 is odd\n",
      "40 is even\n",
      "EVen count:  2\n",
      "EVen Summ numbers: 126\n",
      "Odd count:  3\n",
      "Odd Summ numbers:  73\n"
     ]
    }
   ],
   "source": [
    "import random\n",
    "even_c=0\n",
    "odd_c=0\n",
    "even_sum=0\n",
    "odd_sum=0\n",
    "for i in range(5):\n",
    "    num = random.randint(1,100)\n",
    "    if num%2==0:\n",
    "        print(f'{num} is even')\n",
    "        even_sum=even_sum+num\n",
    "        even_c=even_c+1\n",
    "    else:\n",
    "        print(f'{num} is odd')\n",
    "        odd_sum=odd_sum+num\n",
    "        odd_c=odd_c+1\n",
    "print(\"EVen count: \",even_c)\n",
    "print(\"EVen Summ numbers:\",even_sum)\n",
    "print(\"Odd count: \",odd_c)\n",
    "print(\"Odd Summ numbers: \",odd_sum)\n"
   ]
  },
  {
   "cell_type": "code",
   "execution_count": 35,
   "id": "b56c38bf-384e-4d0e-b3fb-d79a9f8a0882",
   "metadata": {},
   "outputs": [
    {
     "ename": "IndentationError",
     "evalue": "unindent does not match any outer indentation level (<string>, line 5)",
     "output_type": "error",
     "traceback": [
      "\u001b[1;36m  File \u001b[1;32m<string>:5\u001b[1;36m\u001b[0m\n\u001b[1;33m    if(num1==num2):\u001b[0m\n\u001b[1;37m                   ^\u001b[0m\n\u001b[1;31mIndentationError\u001b[0m\u001b[1;31m:\u001b[0m unindent does not match any outer indentation level\n"
     ]
    }
   ],
   "source": [
    "for i in range(3):\n",
    "     num1=eval(input('Enter a number : '))\n",
    "     num2= random.randint(1,100)\n",
    "    \n",
    "    if(num1==num2):\n",
    "        print('Won')\n",
    "        break:\n",
    "   else:\n",
    "    print('Fail')"
   ]
  },
  {
   "cell_type": "code",
   "execution_count": 40,
   "id": "01d8bf6b-1cd7-40fc-9c4b-fcee63ba1554",
   "metadata": {},
   "outputs": [
    {
     "ename": "IndentationError",
     "evalue": "unindent does not match any outer indentation level (<string>, line 4)",
     "output_type": "error",
     "traceback": [
      "\u001b[1;36m  File \u001b[1;32m<string>:4\u001b[1;36m\u001b[0m\n\u001b[1;33m    if(num1=num2):\u001b[0m\n\u001b[1;37m                  ^\u001b[0m\n\u001b[1;31mIndentationError\u001b[0m\u001b[1;31m:\u001b[0m unindent does not match any outer indentation level\n"
     ]
    }
   ],
   "source": [
    "for i in range(3):\n",
    "     num1=eval(input('Enter a number : '))\n",
    "     num2= random.randint(1,100)\n",
    "    if(num1==num2):\n",
    "        \n",
    "        print('you are won the gues')\n",
    "    else:\n",
    "        print('You loss')\n",
    "    \n",
    "    "
   ]
  },
  {
   "cell_type": "code",
   "execution_count": null,
   "id": "431adb8e-cf08-4d2f-aa6e-1a1d613cef59",
   "metadata": {},
   "outputs": [],
   "source": []
  },
  {
   "cell_type": "code",
   "execution_count": null,
   "id": "a650ab69-e6e5-4f0f-8513-2f6233c4738b",
   "metadata": {},
   "outputs": [],
   "source": []
  }
 ],
 "metadata": {
  "kernelspec": {
   "display_name": "Python 3 (ipykernel)",
   "language": "python",
   "name": "python3"
  },
  "language_info": {
   "codemirror_mode": {
    "name": "ipython",
    "version": 3
   },
   "file_extension": ".py",
   "mimetype": "text/x-python",
   "name": "python",
   "nbconvert_exporter": "python",
   "pygments_lexer": "ipython3",
   "version": "3.12.7"
  }
 },
 "nbformat": 4,
 "nbformat_minor": 5
}
