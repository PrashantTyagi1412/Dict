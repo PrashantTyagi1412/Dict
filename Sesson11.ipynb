{
 "cells": [
  {
   "cell_type": "code",
   "execution_count": 7,
   "id": "4e02059e-bbd3-4462-972e-5ddb51d4d7b0",
   "metadata": {},
   "outputs": [
    {
     "name": "stdout",
     "output_type": "stream",
     "text": [
      "its nena\n"
     ]
    }
   ],
   "source": [
    "s=\"Neha\"\n",
    "\n",
    "if(s==\"Prashanttyagi\"):\n",
    "    print(\"iysprashanttygai\")\n",
    "elif(s==\"Neha\"):\n",
    "   print(\"its nena\")\n",
    "else:\n",
    "   print(\"its Arnav\")\n",
    "\n"
   ]
  },
  {
   "cell_type": "code",
   "execution_count": 10,
   "id": "b89e838b-0c3d-4b55-ae65-53d78a7e3f64",
   "metadata": {},
   "outputs": [
    {
     "name": "stdin",
     "output_type": "stream",
     "text": [
      "plz enter the number plz 6\n"
     ]
    },
    {
     "name": "stdout",
     "output_type": "stream",
     "text": [
      "its wrng entry\n"
     ]
    }
   ],
   "source": [
    "s=int(input(\"plz enter the number plz\"))\n",
    "\n",
    "if(s==1):\n",
    "    print(\"Its one \")\n",
    "elif(s==2):\n",
    "   print(\"its two only\")\n",
    "elif(s==3):\n",
    "   print(\"its three only\")\n",
    "else:\n",
    "   print(\"its wrng entry\")\n"
   ]
  },
  {
   "cell_type": "code",
   "execution_count": null,
   "id": "1c555ebe-c640-4142-8ffe-50d6ee5c2407",
   "metadata": {},
   "outputs": [],
   "source": []
  }
 ],
 "metadata": {
  "kernelspec": {
   "display_name": "Python 3 (ipykernel)",
   "language": "python",
   "name": "python3"
  },
  "language_info": {
   "codemirror_mode": {
    "name": "ipython",
    "version": 3
   },
   "file_extension": ".py",
   "mimetype": "text/x-python",
   "name": "python",
   "nbconvert_exporter": "python",
   "pygments_lexer": "ipython3",
   "version": "3.12.7"
  }
 },
 "nbformat": 4,
 "nbformat_minor": 5
}
